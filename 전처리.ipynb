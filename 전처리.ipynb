{
  "nbformat": 4,
  "nbformat_minor": 0,
  "metadata": {
    "colab": {
      "name": "전처리.ipynb",
      "provenance": []
    },
    "kernelspec": {
      "name": "python3",
      "display_name": "Python 3"
    },
    "language_info": {
      "name": "python"
    },
    "accelerator": "GPU"
  },
  "cells": [
    {
      "cell_type": "code",
      "execution_count": null,
      "metadata": {
        "id": "YV6X4wfIZzcT"
      },
      "outputs": [],
      "source": [
        "import pandas as pd\n",
        "\n",
        "data_path = '/content/drive/MyDrive/파이널 프로젝트/'"
      ]
    },
    {
      "cell_type": "code",
      "source": [
        "df = pd.read_csv(data_path + 'waterpark_review.csv')"
      ],
      "metadata": {
        "id": "gcE9OxO1aLd4"
      },
      "execution_count": null,
      "outputs": []
    },
    {
      "cell_type": "code",
      "source": [
        "import re\n",
        "\n",
        "#개행문자 제거\n",
        "df['review'] = df['review'].apply(lambda x : re.sub('\\\\\\\\n', ' ', str(x)))\n",
        "\n",
        "#특수문자 제거\n",
        "#한글 제외한 문자 제거\n",
        "df['review'] = df['review'].apply(lambda x : re.sub(\"[^가-힣]\", \" \", x))\n",
        "\n",
        "#2개 이상의 공백값을 하나의 공백값으로\n",
        "df['review'] = df['review'].apply(lambda x : re.sub('[\\s]+', ' ', x))"
      ],
      "metadata": {
        "id": "AS5aJtJNaRwM"
      },
      "execution_count": null,
      "outputs": []
    },
    {
      "cell_type": "code",
      "source": [
        "#구글리뷰의 경우 추가적으로 제외해줘야함\n",
        "df['review'] = df['review'].apply(lambda x : re.sub('<서비스>', ' ', x))\n",
        "df['review'] = df['review'].apply(lambda x : re.sub('(Google 번역 제공)', ' ', x))\n",
        "df['review'] = df['review'].apply(lambda x : re.sub('(원문)', ' ', x))\n",
        "df['review'] = df['review'].apply(lambda x : re.sub('[\\s]+', ' ', x))"
      ],
      "metadata": {
        "id": "rOWd0QbnOC3B"
      },
      "execution_count": null,
      "outputs": []
    },
    {
      "cell_type": "code",
      "source": [
        ""
      ],
      "metadata": {
        "id": "1aFGCXw4NREK"
      },
      "execution_count": null,
      "outputs": []
    }
  ]
}